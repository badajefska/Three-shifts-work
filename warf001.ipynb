{
 "cells": [
  {
   "cell_type": "code",
   "execution_count": 10,
   "metadata": {},
   "outputs": [
    {
     "name": "stdout",
     "output_type": "stream",
     "text": [
      "4\n",
      "2\n",
      "6\n"
     ]
    },
    {
     "data": {
      "text/html": [
       "<div>\n",
       "<style scoped>\n",
       "    .dataframe tbody tr th:only-of-type {\n",
       "        vertical-align: middle;\n",
       "    }\n",
       "\n",
       "    .dataframe tbody tr th {\n",
       "        vertical-align: top;\n",
       "    }\n",
       "\n",
       "    .dataframe thead th {\n",
       "        text-align: right;\n",
       "    }\n",
       "</style>\n",
       "<table border=\"1\" class=\"dataframe\">\n",
       "  <thead>\n",
       "    <tr style=\"text-align: right;\">\n",
       "      <th></th>\n",
       "      <th>Row1</th>\n",
       "      <th>Row3</th>\n",
       "    </tr>\n",
       "  </thead>\n",
       "  <tbody>\n",
       "    <tr>\n",
       "      <th>1</th>\n",
       "      <td>oita</td>\n",
       "      <td>china</td>\n",
       "    </tr>\n",
       "    <tr>\n",
       "      <th>2</th>\n",
       "      <td>oita</td>\n",
       "      <td>china</td>\n",
       "    </tr>\n",
       "    <tr>\n",
       "      <th>3</th>\n",
       "      <td>china</td>\n",
       "      <td>china</td>\n",
       "    </tr>\n",
       "    <tr>\n",
       "      <th>4</th>\n",
       "      <td>china</td>\n",
       "      <td>oita</td>\n",
       "    </tr>\n",
       "    <tr>\n",
       "      <th>5</th>\n",
       "      <td>china</td>\n",
       "      <td>oita</td>\n",
       "    </tr>\n",
       "  </tbody>\n",
       "</table>\n",
       "</div>"
      ],
      "text/plain": [
       "    Row1   Row3\n",
       "1   oita  china\n",
       "2   oita  china\n",
       "3  china  china\n",
       "4  china   oita\n",
       "5  china   oita"
      ]
     },
     "execution_count": 10,
     "metadata": {},
     "output_type": "execute_result"
    }
   ],
   "source": [
    "import pandas as pd\n",
    "#ルートコード\n",
    "place01 = \"oita\"\n",
    "place02 = \"china\"\n",
    "#配分\n",
    "dis01 = 2\n",
    "dis02 = 3\n",
    "#ショベル台数\n",
    "excavator = 1\n",
    "#ワーフ車合計\n",
    "car = 4\n",
    "#何台中何台目か？\n",
    "first = 2\n",
    "#周回数\n",
    "S = 2-1\n",
    "#ルートコード＊配分で回数\n",
    "N01 = [place01] * dis01\n",
    "N02 = [place02] * dis02\n",
    "#リスト化とショベル1台時の逆リスト\n",
    "list01 = N01+N02\n",
    "list02 = N02+N01\n",
    "#インデックスは台数\n",
    "index01 = [\"1\",\"2\",\"3\",\"4\",\"5\"]\n",
    "#一周目と二周目のリストを合わせて辞書化\n",
    "dict01 = dict(Row1=list01,Row3=list02)\n",
    "#データフレーム化\n",
    "print(car)\n",
    "print(first)\n",
    "print(first+car*S)\n",
    "pd.DataFrame(data=dict01, index=index01)\n"
   ]
  }
 ],
 "metadata": {
  "interpreter": {
   "hash": "38d51dd8e8d25c2b4859ddf5fde4d8615b38902fd48d30a19bf46ddb81d406a6"
  },
  "kernelspec": {
   "display_name": "Python 3.9.12 64-bit (windows store)",
   "language": "python",
   "name": "python3"
  },
  "language_info": {
   "codemirror_mode": {
    "name": "ipython",
    "version": 3
   },
   "file_extension": ".py",
   "mimetype": "text/x-python",
   "name": "python",
   "nbconvert_exporter": "python",
   "pygments_lexer": "ipython3",
   "version": "3.9.12"
  },
  "orig_nbformat": 4
 },
 "nbformat": 4,
 "nbformat_minor": 2
}
