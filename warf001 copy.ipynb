{
 "cells": [
  {
   "cell_type": "code",
   "execution_count": 53,
   "metadata": {},
   "outputs": [
    {
     "name": "stdout",
     "output_type": "stream",
     "text": [
      "[16, 17, 18, 19, 20]\n"
     ]
    }
   ],
   "source": [
    "#炉周回目\n",
    "S = 4-1\n",
    "num = S*5\n",
    "#台目札\n",
    "index01 = list(range(1+(num),5+1+(num),1))\n",
    "print(index01)"
   ]
  },
  {
   "cell_type": "code",
   "execution_count": 54,
   "metadata": {},
   "outputs": [
    {
     "data": {
      "text/plain": [
       "[19]"
      ]
     },
     "execution_count": 54,
     "metadata": {},
     "output_type": "execute_result"
    }
   ],
   "source": [
    "#台数\n",
    "car = 4\n",
    "#台目\n",
    "first = 3\n",
    "\n",
    "#各番号札のリスト化\n",
    "firflag01 = [i for i in index01 if i%car==1]\n",
    "secflag01 = [i for i in index01 if i%car==2]\n",
    "thrflag01 = [i for i in index01 if i%car==3]\n",
    "forflag01 = [i for i in index01 if i%car==4]\n",
    "lasflag01 = [i for i in index01 if i%car==0]\n",
    "#マイフラグを出力\n",
    "if first%car==0:\n",
    "    myflag01 = lasflag01\n",
    "elif first==1:\n",
    "    myflag01 = firflag01\n",
    "elif first==2:\n",
    "    myflag01 = secflag01\n",
    "elif first==3:\n",
    "    myflag01 = thrflag01\n",
    "elif first==4:\n",
    "    myflag01 = forflag01\n",
    "myflag01"
   ]
  }
 ],
 "metadata": {
  "interpreter": {
   "hash": "38d51dd8e8d25c2b4859ddf5fde4d8615b38902fd48d30a19bf46ddb81d406a6"
  },
  "kernelspec": {
   "display_name": "Python 3.9.12 64-bit (windows store)",
   "language": "python",
   "name": "python3"
  },
  "language_info": {
   "codemirror_mode": {
    "name": "ipython",
    "version": 3
   },
   "file_extension": ".py",
   "mimetype": "text/x-python",
   "name": "python",
   "nbconvert_exporter": "python",
   "pygments_lexer": "ipython3",
   "version": "3.9.12"
  },
  "orig_nbformat": 4
 },
 "nbformat": 4,
 "nbformat_minor": 2
}
